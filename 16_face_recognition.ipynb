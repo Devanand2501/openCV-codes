{
 "cells": [
  {
   "cell_type": "code",
   "execution_count": 3,
   "metadata": {},
   "outputs": [],
   "source": [
    "import os \n",
    "import cv2 as cv \n",
    "import numpy as np\n",
    "import matplotlib.pyplot as plt "
   ]
  },
  {
   "cell_type": "code",
   "execution_count": 4,
   "metadata": {},
   "outputs": [
    {
     "name": "stdout",
     "output_type": "stream",
     "text": [
      "['Ben Afflek', 'Elton John', 'Jerry Seinfield', 'Madonna', 'Mindy Kaling']\n"
     ]
    }
   ],
   "source": [
    "directory = 'Resources/Faces/train/'\n",
    "people = []\n",
    "\n",
    "for i in os.listdir(directory):\n",
    "    people.append(i)\n",
    "\n",
    "print(people)"
   ]
  },
  {
   "cell_type": "code",
   "execution_count": 5,
   "metadata": {},
   "outputs": [],
   "source": [
    "haar_cascade = cv.CascadeClassifier('haar_face.xml')"
   ]
  },
  {
   "cell_type": "markdown",
   "metadata": {},
   "source": [
    "## Model trained"
   ]
  },
  {
   "cell_type": "code",
   "execution_count": 8,
   "metadata": {},
   "outputs": [],
   "source": [
    "features = []\n",
    "labels = []\n",
    "\n",
    "def train_func():\n",
    "    for person in people:\n",
    "        path = os.path.join(directory,person)\n",
    "        label = people.index(person)\n",
    "\n",
    "        for img in os.listdir(path):\n",
    "            img_path = os.path.join(path,img)\n",
    "            img_array = cv.imread(img_path)\n",
    "            gray = cv.cvtColor(img_array,cv.COLOR_BGR2GRAY)\n",
    "\n",
    "            faces_rect = haar_cascade.detectMultiScale(gray,scaleFactor=1.1,minNeighbors=4)\n",
    "\n",
    "            for (x,y,w,h) in faces_rect:\n",
    "                faces = gray [y:y+h, x:x+w]\n",
    "                features.append(faces)\n",
    "                labels.append(label)"
   ]
  },
  {
   "cell_type": "code",
   "execution_count": 9,
   "metadata": {},
   "outputs": [],
   "source": [
    "train_func()"
   ]
  },
  {
   "cell_type": "code",
   "execution_count": 13,
   "metadata": {},
   "outputs": [
    {
     "name": "stdout",
     "output_type": "stream",
     "text": [
      "Length of the features = 100\n",
      "Length of the labels = 100\n"
     ]
    }
   ],
   "source": [
    "print(f'Length of the features = {len(features)}')\n",
    "print(f'Length of the labels = {len(labels)}')\n",
    "\n",
    "features = np.array(features,dtype='object')\n",
    "labels = np.array(labels)"
   ]
  },
  {
   "cell_type": "code",
   "execution_count": 14,
   "metadata": {},
   "outputs": [],
   "source": [
    "face_recognizer = cv.face.LBPHFaceRecognizer_create()\n",
    "face_recognizer.train(features,labels)\n",
    "face_recognizer.save('face_trained.yml')"
   ]
  },
  {
   "cell_type": "code",
   "execution_count": 16,
   "metadata": {},
   "outputs": [],
   "source": [
    "np.save('features.npy',features)\n",
    "np.save('labels.npy',labels)"
   ]
  },
  {
   "cell_type": "markdown",
   "metadata": {},
   "source": [
    "## Model prediction"
   ]
  },
  {
   "cell_type": "code",
   "execution_count": 32,
   "metadata": {},
   "outputs": [],
   "source": [
    "img = cv.imread('Resources/Faces/val/elton_john/1.jpg')\n",
    "cv.imshow(\"FACE\", img)\n",
    "cv.waitKey(5000)\n",
    "cv.destroyAllWindows()\n",
    "gray = cv.cvtColor(img,cv.COLOR_BGR2GRAY)\n",
    "faces_rect = haar_cascade.detectMultiScale(gray,scaleFactor=1.1,minNeighbors=4)"
   ]
  },
  {
   "cell_type": "code",
   "execution_count": 33,
   "metadata": {},
   "outputs": [
    {
     "name": "stdout",
     "output_type": "stream",
     "text": [
      "label = Elton John with a confidence of 67.00856809674691\n"
     ]
    }
   ],
   "source": [
    "for (x,y,w,h) in faces_rect:\n",
    "    faces = gray[y:y+h,x:x+h]\n",
    "    label, confidence = face_recognizer.predict(faces)\n",
    "    print(f\"label = {people[label]} with a confidence of {confidence}\")\n",
    "\n",
    "    cv.putText(img,str(people[label]),(20,20),cv.FONT_HERSHEY_COMPLEX,1.0,(0,0,255),2)\n",
    "    cv.rectangle(img,(x,y),(x+w,y+h),(0,0,255),2)\n",
    "\n",
    "cv.imshow(\"Face Recognized image\",img)\n",
    "cv.waitKey(7000)\n",
    "cv.destroyAllWindows()"
   ]
  },
  {
   "cell_type": "code",
   "execution_count": null,
   "metadata": {},
   "outputs": [],
   "source": []
  }
 ],
 "metadata": {
  "kernelspec": {
   "display_name": "Python 3",
   "language": "python",
   "name": "python3"
  },
  "language_info": {
   "codemirror_mode": {
    "name": "ipython",
    "version": 3
   },
   "file_extension": ".py",
   "mimetype": "text/x-python",
   "name": "python",
   "nbconvert_exporter": "python",
   "pygments_lexer": "ipython3",
   "version": "3.11.4"
  },
  "orig_nbformat": 4
 },
 "nbformat": 4,
 "nbformat_minor": 2
}
