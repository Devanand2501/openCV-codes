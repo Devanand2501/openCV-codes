{
 "cells": [
  {
   "cell_type": "markdown",
   "metadata": {},
   "source": [
    "* Thresholding is a common image processing technique used to separate objects or regions of interest from the background in an image by converting pixel values based on a threshold value."
   ]
  },
  {
   "cell_type": "code",
   "execution_count": 2,
   "metadata": {},
   "outputs": [],
   "source": [
    "import cv2 as cv \n",
    "import numpy as np"
   ]
  },
  {
   "cell_type": "code",
   "execution_count": 3,
   "metadata": {},
   "outputs": [],
   "source": [
    "img = cv.imread('Resources/Photos/cats.jpg')\n",
    "cv.imshow(\"Colored Image\", img)\n",
    "cv.waitKey(5000)\n",
    "cv.destroyAllWindows()"
   ]
  },
  {
   "cell_type": "code",
   "execution_count": 4,
   "metadata": {},
   "outputs": [],
   "source": [
    "gray = cv.cvtColor(img,cv.COLOR_BGRA2GRAY)\n",
    "cv.imshow(\"Colored Image\", img)\n",
    "cv.waitKey(5000)\n",
    "cv.destroyAllWindows()"
   ]
  },
  {
   "cell_type": "code",
   "execution_count": 3,
   "metadata": {},
   "outputs": [
    {
     "name": "stdout",
     "output_type": "stream",
     "text": [
      "\u001b[1;31mDocstring:\u001b[0m\n",
      "threshold(src, thresh, maxval, type[, dst]) -> retval, dst\n",
      ".   @brief Applies a fixed-level threshold to each array element.\n",
      ".   \n",
      ".   The function applies fixed-level thresholding to a multiple-channel array. The function is typically\n",
      ".   used to get a bi-level (binary) image out of a grayscale image ( #compare could be also used for\n",
      ".   this purpose) or for removing a noise, that is, filtering out pixels with too small or too large\n",
      ".   values. There are several types of thresholding supported by the function. They are determined by\n",
      ".   type parameter.\n",
      ".   \n",
      ".   Also, the special values #THRESH_OTSU or #THRESH_TRIANGLE may be combined with one of the\n",
      ".   above values. In these cases, the function determines the optimal threshold value using the Otsu's\n",
      ".   or Triangle algorithm and uses it instead of the specified thresh.\n",
      ".   \n",
      ".   @note Currently, the Otsu's and Triangle methods are implemented only for 8-bit single-channel images.\n",
      ".   \n",
      ".   @param src input array (multiple-channel, 8-bit or 32-bit floating point).\n",
      ".   @param dst output array of the same size  and type and the same number of channels as src.\n",
      ".   @param thresh threshold value.\n",
      ".   @param maxval maximum value to use with the #THRESH_BINARY and #THRESH_BINARY_INV thresholding\n",
      ".   types.\n",
      ".   @param type thresholding type (see #ThresholdTypes).\n",
      ".   @return the computed threshold value if Otsu's or Triangle methods used.\n",
      ".   \n",
      ".   @sa  adaptiveThreshold, findContours, compare, min, max\n",
      "\u001b[1;31mType:\u001b[0m      builtin_function_or_method"
     ]
    }
   ],
   "source": [
    "cv.threshold?"
   ]
  },
  {
   "cell_type": "markdown",
   "metadata": {},
   "source": [
    "150 is set threshold and if pixel intensity above it set to 255 else 0"
   ]
  },
  {
   "cell_type": "code",
   "execution_count": 7,
   "metadata": {},
   "outputs": [],
   "source": [
    "threshold,thresh = cv.threshold(gray,150,255,cv.THRESH_BINARY)\n",
    "threshold,thresh_inv = cv.threshold(gray,150,255,cv.THRESH_BINARY_INV)\n",
    "cv.imshow(\"Colored Image\", img)\n",
    "cv.imshow(\"Threshold Image\", thresh)\n",
    "cv.imshow(\"Threshold Inverse Image\", thresh_inv)\n",
    "cv.waitKey(8000)\n",
    "cv.destroyAllWindows()"
   ]
  },
  {
   "cell_type": "markdown",
   "metadata": {},
   "source": [
    "## Adaptive Thresholding"
   ]
  },
  {
   "cell_type": "code",
   "execution_count": 8,
   "metadata": {},
   "outputs": [
    {
     "name": "stdout",
     "output_type": "stream",
     "text": [
      "\u001b[1;31mDocstring:\u001b[0m\n",
      "adaptiveThreshold(src, maxValue, adaptiveMethod, thresholdType, blockSize, C[, dst]) -> dst\n",
      ".   @brief Applies an adaptive threshold to an array.\n",
      ".   \n",
      ".   The function transforms a grayscale image to a binary image according to the formulae:\n",
      ".   -   **THRESH_BINARY**\n",
      ".       \\f[dst(x,y) =  \\fork{\\texttt{maxValue}}{if \\(src(x,y) > T(x,y)\\)}{0}{otherwise}\\f]\n",
      ".   -   **THRESH_BINARY_INV**\n",
      ".       \\f[dst(x,y) =  \\fork{0}{if \\(src(x,y) > T(x,y)\\)}{\\texttt{maxValue}}{otherwise}\\f]\n",
      ".   where \\f$T(x,y)\\f$ is a threshold calculated individually for each pixel (see adaptiveMethod parameter).\n",
      ".   \n",
      ".   The function can process the image in-place.\n",
      ".   \n",
      ".   @param src Source 8-bit single-channel image.\n",
      ".   @param dst Destination image of the same size and the same type as src.\n",
      ".   @param maxValue Non-zero value assigned to the pixels for which the condition is satisfied\n",
      ".   @param adaptiveMethod Adaptive thresholding algorithm to use, see #AdaptiveThresholdTypes.\n",
      ".   The #BORDER_REPLICATE | #BORDER_ISOLATED is used to process boundaries.\n",
      ".   @param thresholdType Thresholding type that must be either #THRESH_BINARY or #THRESH_BINARY_INV,\n",
      ".   see #ThresholdTypes.\n",
      ".   @param blockSize Size of a pixel neighborhood that is used to calculate a threshold value for the\n",
      ".   pixel: 3, 5, 7, and so on.\n",
      ".   @param C Constant subtracted from the mean or weighted mean (see the details below). Normally, it\n",
      ".   is positive but may be zero or negative as well.\n",
      ".   \n",
      ".   @sa  threshold, blur, GaussianBlur\n",
      "\u001b[1;31mType:\u001b[0m      builtin_function_or_method"
     ]
    }
   ],
   "source": [
    "cv.adaptiveThreshold?"
   ]
  },
  {
   "cell_type": "markdown",
   "metadata": {},
   "source": [
    "* Find out optimum thresholded value on the basis of mean"
   ]
  },
  {
   "cell_type": "code",
   "execution_count": 10,
   "metadata": {},
   "outputs": [],
   "source": [
    "adaptive_thresh = cv.adaptiveThreshold(gray,255,cv.ADAPTIVE_THRESH_MEAN_C,cv.THRESH_BINARY,11,3)\n",
    "adaptive_thresh_inv = cv.adaptiveThreshold(gray,255,cv.ADAPTIVE_THRESH_MEAN_C,cv.THRESH_BINARY_INV,11,3)\n",
    "cv.imshow(\"Colored Image\", img)\n",
    "cv.imshow(\"Adaptive Threshold Image\", adaptive_thresh)\n",
    "cv.imshow(\"Adaptive Threshold Inverse Image\", adaptive_thresh_inv)\n",
    "cv.waitKey(5000)\n",
    "cv.destroyAllWindows()"
   ]
  },
  {
   "cell_type": "code",
   "execution_count": null,
   "metadata": {},
   "outputs": [],
   "source": []
  }
 ],
 "metadata": {
  "kernelspec": {
   "display_name": "Python 3",
   "language": "python",
   "name": "python3"
  },
  "language_info": {
   "codemirror_mode": {
    "name": "ipython",
    "version": 3
   },
   "file_extension": ".py",
   "mimetype": "text/x-python",
   "name": "python",
   "nbconvert_exporter": "python",
   "pygments_lexer": "ipython3",
   "version": "3.11.4"
  },
  "orig_nbformat": 4
 },
 "nbformat": 4,
 "nbformat_minor": 2
}
