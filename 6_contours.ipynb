{
 "cells": [
  {
   "cell_type": "code",
   "execution_count": 13,
   "metadata": {},
   "outputs": [],
   "source": [
    "import cv2 as cv \n",
    "import numpy as np"
   ]
  },
  {
   "cell_type": "markdown",
   "metadata": {},
   "source": [
    "General recommendation is used canny method first and then find contours "
   ]
  },
  {
   "cell_type": "code",
   "execution_count": 15,
   "metadata": {},
   "outputs": [],
   "source": [
    "img = cv.imread('Resources/Photos/cats 2.jpg')\n",
    "cv.imshow('Colored Image', img)\n",
    "cv.waitKey(5000)\n",
    "cv.destroyAllWindows()"
   ]
  },
  {
   "cell_type": "markdown",
   "metadata": {},
   "source": [
    "## Finding contours"
   ]
  },
  {
   "cell_type": "code",
   "execution_count": 17,
   "metadata": {},
   "outputs": [],
   "source": [
    "gray_img = cv.cvtColor(img,cv.COLOR_BGR2GRAY)\n",
    "cv.imshow(\"Gray image\",gray_img)\n",
    "cv.waitKey(5000)\n",
    "cv.destroyAllWindows()"
   ]
  },
  {
   "cell_type": "code",
   "execution_count": 4,
   "metadata": {},
   "outputs": [],
   "source": [
    "blur_img = cv.GaussianBlur(gray_img,(5,5),cv.BORDER_DEFAULT)\n",
    "canny_img = cv.Canny(blur_img, 125,175)\n",
    "cv.imshow(\"Blur image\",blur_img)\n",
    "cv.imshow(\"canny image\",canny_img)\n",
    "cv.waitKey(5000)\n",
    "cv.destroyAllWindows()"
   ]
  },
  {
   "cell_type": "code",
   "execution_count": 18,
   "metadata": {},
   "outputs": [],
   "source": [
    "ret,threshold_img = cv.threshold(gray_img,125,155,cv.THRESH_BINARY)\n",
    "cv.imshow(\"Threshold image\",threshold_img)\n",
    "cv.waitKey(5000)\n",
    "cv.destroyAllWindows()"
   ]
  },
  {
   "cell_type": "code",
   "execution_count": 19,
   "metadata": {},
   "outputs": [
    {
     "name": "stdout",
     "output_type": "stream",
     "text": [
      "155 contours found\n"
     ]
    }
   ],
   "source": [
    "contours,heirarchy = cv.findContours(canny_img,cv.RETR_LIST,cv.CHAIN_APPROX_SIMPLE)\n",
    "# contours,heirarchy = cv.findContours(threshold_img,cv.RETR_LIST,cv.CHAIN_APPROX_SIMPLE)\n",
    "\n",
    "print(f'{len(contours)} contours found')"
   ]
  },
  {
   "cell_type": "markdown",
   "metadata": {},
   "source": [
    "contours --> python list of all coordinates of all contours find in image\n",
    "heirarchy --> heirarchical representation of contours \n",
    "modes:\n",
    "    cv.RETR_LIST --> Find out all contours \n",
    "    cv.RETER_EXTERNAL --> Return the all external contours\n",
    "    cv.RETER_TREE --> Returns all heirarchical contours \n",
    "\n",
    "methods: (how we want to approximate the contours )\n",
    "    cv.CHAIN_APPROX_NONE --> does nothing returns all contours\n",
    "    cv.CHAIN_APPROX_SIMPLE --> simple approximation \n"
   ]
  },
  {
   "cell_type": "code",
   "execution_count": 21,
   "metadata": {},
   "outputs": [],
   "source": [
    "# Creation of blank image \n",
    "blank = np.zeros(   img.shape,dtype='uint8')\n",
    "cv.imshow(\"blank image\",blank)\n",
    "cv.waitKey(5000)\n",
    "cv.destroyAllWindows()"
   ]
  },
  {
   "cell_type": "markdown",
   "metadata": {},
   "source": [
    "## Drawing contours on blank image "
   ]
  },
  {
   "cell_type": "code",
   "execution_count": 23,
   "metadata": {},
   "outputs": [],
   "source": [
    "cv.drawContours(blank,contours,-1,(0,0,255),1)\n",
    "cv.imshow(\"blank contours drawn imagae\",blank)\n",
    "cv.waitKey(5000)\n",
    "cv.destroyAllWindows()"
   ]
  },
  {
   "cell_type": "code",
   "execution_count": null,
   "metadata": {},
   "outputs": [],
   "source": []
  }
 ],
 "metadata": {
  "kernelspec": {
   "display_name": "Python 3",
   "language": "python",
   "name": "python3"
  },
  "language_info": {
   "codemirror_mode": {
    "name": "ipython",
    "version": 3
   },
   "file_extension": ".py",
   "mimetype": "text/x-python",
   "name": "python",
   "nbconvert_exporter": "python",
   "pygments_lexer": "ipython3",
   "version": "3.11.4"
  },
  "orig_nbformat": 4
 },
 "nbformat": 4,
 "nbformat_minor": 2
}
