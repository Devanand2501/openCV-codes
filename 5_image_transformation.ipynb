{
 "cells": [
  {
   "cell_type": "code",
   "execution_count": 5,
   "metadata": {},
   "outputs": [],
   "source": [
    "import cv2 as cv \n",
    "import numpy as np"
   ]
  },
  {
   "cell_type": "code",
   "execution_count": 6,
   "metadata": {},
   "outputs": [],
   "source": [
    "img = cv.imread('Resources/Photos/park.jpg')\n",
    "cv.imshow('Colored Image', img)\n",
    "cv.waitKey(5000)\n",
    "cv.destroyAllWindows()"
   ]
  },
  {
   "cell_type": "markdown",
   "metadata": {},
   "source": [
    "## Translating the image"
   ]
  },
  {
   "cell_type": "code",
   "execution_count": 7,
   "metadata": {},
   "outputs": [],
   "source": [
    "# ! Horizontal motion\n",
    "# ? -x --> left\n",
    "# ? +x --> right\n",
    "\n",
    "# ! vertical motion\n",
    "# ? -y --> up \n",
    "# ? +y --> down "
   ]
  },
  {
   "cell_type": "code",
   "execution_count": 8,
   "metadata": {},
   "outputs": [],
   "source": [
    "def translate (img, x,y):\n",
    "    transMat = np.float32([[1,0,x],[0,1,y]])\n",
    "    dimenssions = (img.shape[1],img.shape[0])\n",
    "    return cv.warpAffine(img, transMat, dimenssions)"
   ]
  },
  {
   "cell_type": "code",
   "execution_count": 9,
   "metadata": {},
   "outputs": [],
   "source": [
    "translated_img = translate(img,100,100)\n",
    "cv.imshow('Colored Image', img)\n",
    "cv.imshow('Translated Image', translated_img)\n",
    "cv.waitKey(5000)\n",
    "cv.destroyAllWindows()"
   ]
  },
  {
   "cell_type": "markdown",
   "metadata": {},
   "source": [
    "## Rotation"
   ]
  },
  {
   "cell_type": "code",
   "execution_count": 10,
   "metadata": {},
   "outputs": [],
   "source": [
    "def rotate(img, angle, rotPoint=None):\n",
    "    (height,width)= img.shape[:2]\n",
    "    \n",
    "    if rotPoint is None:  # Rotation about center by default\n",
    "        rotPoint = (width//2, width//2)\n",
    "    \n",
    "    rotMat = cv.getRotationMatrix2D(rotPoint,angle,1.0) # last parameter is scale\n",
    "    dimenssions = (width,height)\n",
    "\n",
    "    return cv.warpAffine(img,rotMat,dimenssions)\n"
   ]
  },
  {
   "cell_type": "code",
   "execution_count": 11,
   "metadata": {},
   "outputs": [],
   "source": [
    "# rotated_img = rotate(img,-45) # --> For clockwise rotation of image\n",
    "rotated_img = rotate(img,45)\n",
    "cv.imshow('Colored Image', img)\n",
    "cv.imshow(\"Rotated image\",rotated_img)\n",
    "cv.waitKey(5000)\n",
    "cv.destroyAllWindows()"
   ]
  },
  {
   "cell_type": "code",
   "execution_count": 12,
   "metadata": {},
   "outputs": [],
   "source": [
    "rotated_rotated = rotate(rotated_img,-45)\n",
    "cv.imshow('Colored Image', img)\n",
    "cv.imshow(\"Double Rotated image\",rotated_rotated)\n",
    "cv.waitKey(5000)\n",
    "cv.destroyAllWindows()"
   ]
  },
  {
   "cell_type": "markdown",
   "metadata": {},
   "source": [
    "## Flipping"
   ]
  },
  {
   "cell_type": "code",
   "execution_count": 15,
   "metadata": {},
   "outputs": [],
   "source": [
    "flipped_img = cv.flip(img,-1)\n",
    "cv.imshow(\"Colored image\",img)\n",
    "cv.imshow(\"Flipped image\",flipped_img)\n",
    "cv.waitKey(5000)\n",
    "cv.destroyAllWindows()\n"
   ]
  },
  {
   "cell_type": "markdown",
   "metadata": {},
   "source": [
    "2nd parameter is flip code which can be 0,-1,1\n",
    "0 --> vertical fipping\n",
    "1 --> horizontal fipping\n",
    "-1 --> vertical as well as horizontal fipping\n"
   ]
  },
  {
   "cell_type": "code",
   "execution_count": null,
   "metadata": {},
   "outputs": [],
   "source": []
  }
 ],
 "metadata": {
  "kernelspec": {
   "display_name": "Python 3",
   "language": "python",
   "name": "python3"
  },
  "language_info": {
   "codemirror_mode": {
    "name": "ipython",
    "version": 3
   },
   "file_extension": ".py",
   "mimetype": "text/x-python",
   "name": "python",
   "nbconvert_exporter": "python",
   "pygments_lexer": "ipython3",
   "version": "3.11.4"
  },
  "orig_nbformat": 4
 },
 "nbformat": 4,
 "nbformat_minor": 2
}
