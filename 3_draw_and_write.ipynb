{
 "cells": [
  {
   "cell_type": "code",
   "execution_count": 1,
   "metadata": {},
   "outputs": [],
   "source": [
    "import cv2 as cv \n",
    "import numpy as np"
   ]
  },
  {
   "cell_type": "markdown",
   "metadata": {},
   "source": [
    "## Creation of blank image"
   ]
  },
  {
   "cell_type": "code",
   "execution_count": 5,
   "metadata": {},
   "outputs": [],
   "source": [
    "# Creating blank images consisting only zeros\n",
    "# three parameters are height, width and color channels \n",
    "blank = np.zeros((500,500,3), dtype='uint8') \n",
    "# Saving this image in a image file \n",
    "cv.imwrite('blank_image.png', blank)\n",
    "img = cv.imread('blank_image.png')\n",
    "cv.imshow('Blank Image', img)\n",
    "cv.waitKey(5000)\n",
    "cv.destroyAllWindows()"
   ]
  },
  {
   "cell_type": "markdown",
   "metadata": {},
   "source": [
    "### Paint the image with certain color "
   ]
  },
  {
   "cell_type": "code",
   "execution_count": 8,
   "metadata": {},
   "outputs": [],
   "source": [
    "blank [:] = 0, 255, 0 # For green\n",
    "blank [:] = 0, 0, 255 # For red\n",
    "cv.imshow('Green',blank)\n",
    "cv.waitKey(5000)\n",
    "cv.destroyAllWindows()"
   ]
  },
  {
   "cell_type": "markdown",
   "metadata": {},
   "source": [
    "To color pixel within certain range"
   ]
  },
  {
   "cell_type": "code",
   "execution_count": 9,
   "metadata": {},
   "outputs": [],
   "source": [
    "blank[200:300, 300:400] = 0, 0, 255\n",
    "cv.imshow('Red box',blank)\n",
    "cv.waitKey(5000)\n",
    "cv.destroyAllWindows()"
   ]
  },
  {
   "cell_type": "markdown",
   "metadata": {},
   "source": [
    "## Drawing the rectangle"
   ]
  },
  {
   "cell_type": "code",
   "execution_count": 15,
   "metadata": {},
   "outputs": [],
   "source": [
    "# parameters \n",
    "# 1. image name  and 2. four points of the reactange \n",
    "# thickeness of line and 4. linetype \n",
    "# (0,255,255) --> green and red combo making yellow line\n",
    "cv.rectangle(blank,(0,0),(250,500),(0,255,255),thickness=3,lineType=4)\n",
    "cv.imshow('Rectangle',blank)\n",
    "cv.waitKey(5000)\n",
    "cv.destroyAllWindows()"
   ]
  },
  {
   "cell_type": "markdown",
   "metadata": {},
   "source": [
    "### For filling the whole rectange "
   ]
  },
  {
   "cell_type": "code",
   "execution_count": 18,
   "metadata": {},
   "outputs": [],
   "source": [
    "blank2 = np.zeros((500,500,3), dtype='uint8') \n",
    "cv.imwrite('blank_image.png', blank2)\n",
    "# thickness = -1 --> does the same thing \n",
    "cv.rectangle(blank2,(0,0),(250,500),(0,255,255),thickness=cv.FILLED,lineType=4)\n",
    "# Another way to give dimenssion is \n",
    "cv.rectangle(blank2,(0,0),(blank2.shape[1]// 2, blank2.shape[0]// 2),(0,200,255),thickness=cv.FILLED,lineType=4)\n",
    "cv.imshow('Rectangle',blank2)\n",
    "cv.waitKey(5000)\n",
    "cv.destroyAllWindows()"
   ]
  },
  {
   "cell_type": "markdown",
   "metadata": {},
   "source": [
    "## Creation of Circle "
   ]
  },
  {
   "cell_type": "code",
   "execution_count": 7,
   "metadata": {},
   "outputs": [],
   "source": [
    "blank3 = np.zeros((500,500,3), dtype='uint8') \n",
    "cv.imwrite('blank_image.png', blank3)\n",
    "cv.circle(blank3,(250,250),40,(0,50,255),thickness=-1)\n",
    "cv.imshow('Cicle',blank3)\n",
    "cv.waitKey(5000)\n",
    "cv.destroyAllWindows()"
   ]
  },
  {
   "cell_type": "markdown",
   "metadata": {},
   "source": [
    "## Creation of line"
   ]
  },
  {
   "cell_type": "code",
   "execution_count": 8,
   "metadata": {},
   "outputs": [],
   "source": [
    "cv.line(blank3,(0,250),(250,250),(250,50,255),thickness=3)\n",
    "cv.imshow('Line',blank3)\n",
    "cv.waitKey(5000)\n",
    "cv.destroyAllWindows()"
   ]
  },
  {
   "cell_type": "markdown",
   "metadata": {},
   "source": [
    "## Display text "
   ]
  },
  {
   "cell_type": "code",
   "execution_count": 11,
   "metadata": {},
   "outputs": [],
   "source": [
    "blank4 = np.zeros((500,500,3), dtype='uint8') \n",
    "cv.imwrite('blank_image.png', blank4)\n",
    "cv.putText(blank4,'Hello',(250,250),cv.FONT_HERSHEY_DUPLEX,fontScale=1.5,color=(250,50,255),thickness=2)\n",
    "cv.imshow('Text',blank4)\n",
    "cv.waitKey(5000)\n",
    "cv.destroyAllWindows()"
   ]
  },
  {
   "cell_type": "code",
   "execution_count": null,
   "metadata": {},
   "outputs": [],
   "source": []
  }
 ],
 "metadata": {
  "kernelspec": {
   "display_name": "Python 3",
   "language": "python",
   "name": "python3"
  },
  "language_info": {
   "codemirror_mode": {
    "name": "ipython",
    "version": 3
   },
   "file_extension": ".py",
   "mimetype": "text/x-python",
   "name": "python",
   "nbconvert_exporter": "python",
   "pygments_lexer": "ipython3",
   "version": "3.11.4"
  },
  "orig_nbformat": 4
 },
 "nbformat": 4,
 "nbformat_minor": 2
}
