{
 "cells": [
  {
   "cell_type": "code",
   "execution_count": 1,
   "metadata": {},
   "outputs": [],
   "source": [
    "import cv2 as cv \n",
    "import numpy as np"
   ]
  },
  {
   "cell_type": "code",
   "execution_count": 2,
   "metadata": {},
   "outputs": [],
   "source": [
    "img = cv.imread('Resources/Photos/cat.jpg')\n",
    "cv.imshow('Colored Image', img)\n",
    "cv.waitKey(5000)\n",
    "cv.destroyAllWindows()"
   ]
  },
  {
   "cell_type": "markdown",
   "metadata": {},
   "source": [
    "## Converting Image to GreyScale"
   ]
  },
  {
   "cell_type": "code",
   "execution_count": 3,
   "metadata": {},
   "outputs": [],
   "source": [
    "gray = cv.cvtColor(img, cv.COLOR_BGR2GRAY)\n",
    "cv.imshow('Colored Image', img)\n",
    "cv.imshow('Grey Image', gray)\n",
    "cv.waitKey(5000)\n",
    "cv.destroyAllWindows()"
   ]
  },
  {
   "cell_type": "code",
   "execution_count": 4,
   "metadata": {},
   "outputs": [],
   "source": [
    "img = cv.imread('Resources/Photos/park.jpg')\n",
    "cv.imshow('Colored Image', img)\n",
    "gray = cv.cvtColor(img, cv.COLOR_BGR2GRAY)\n",
    "cv.imshow('Grey Image', gray)\n",
    "cv.waitKey(5000)\n",
    "cv.destroyAllWindows()"
   ]
  },
  {
   "cell_type": "markdown",
   "metadata": {},
   "source": [
    "## Blurring the image"
   ]
  },
  {
   "cell_type": "code",
   "execution_count": 5,
   "metadata": {},
   "outputs": [],
   "source": [
    "# 2nd parameter is kernel size and must be odd\n",
    "# To increase the blurness --> increase the kernel size \n",
    "blur = cv.GaussianBlur(img,(3,3),cv.BORDER_DEFAULT)\n",
    "cv.imshow('Colored Image', img)\n",
    "cv.imshow('Blur Image', blur)\n",
    "cv.waitKey(5000)\n",
    "cv.destroyAllWindows()"
   ]
  },
  {
   "cell_type": "markdown",
   "metadata": {},
   "source": [
    "## Edge Cascade "
   ]
  },
  {
   "cell_type": "markdown",
   "metadata": {},
   "source": [
    "To find out the edges in our images"
   ]
  },
  {
   "cell_type": "code",
   "execution_count": 6,
   "metadata": {},
   "outputs": [],
   "source": [
    "canny = cv.Canny(blur,125,175)\n",
    "# We can decrease the edges by bluring the image\n",
    "cv.imshow('Colored Image', img)\n",
    "cv.imshow('Edge Cascade Image', canny)\n",
    "cv.waitKey(5000)\n",
    "cv.destroyAllWindows()"
   ]
  },
  {
   "cell_type": "markdown",
   "metadata": {},
   "source": [
    "## Dilating the image"
   ]
  },
  {
   "cell_type": "markdown",
   "metadata": {},
   "source": [
    "With the help of some structural element and here we are using the canny image"
   ]
  },
  {
   "cell_type": "code",
   "execution_count": 7,
   "metadata": {},
   "outputs": [],
   "source": [
    "# No of iteration just increase the thickness of lines in border \n",
    "dilate_img = cv.dilate(canny,(5,5),iterations=7)\n",
    "cv.imshow('Colored Image', img)\n",
    "cv.imshow('Edge Cascade Image', canny)\n",
    "cv.imshow('Dilated Image', dilate_img)\n",
    "cv.waitKey(5000)\n",
    "cv.destroyAllWindows()"
   ]
  },
  {
   "cell_type": "markdown",
   "metadata": {},
   "source": [
    "## Eroding the images"
   ]
  },
  {
   "cell_type": "markdown",
   "metadata": {},
   "source": [
    "To get the edge cascade image back by using dilated images --> use eroding "
   ]
  },
  {
   "cell_type": "code",
   "execution_count": 8,
   "metadata": {},
   "outputs": [],
   "source": [
    "eroded_img = cv.erode(dilate_img,(5,5),iterations=7)\n",
    "cv.imshow('Colored Image', img)\n",
    "cv.imshow('Edge Cascade Image', canny)\n",
    "cv.imshow('Dilated Image', dilate_img)\n",
    "cv.imshow('Eroded Image', eroded_img)\n",
    "cv.waitKey(5000)\n",
    "cv.destroyAllWindows()"
   ]
  },
  {
   "cell_type": "markdown",
   "metadata": {},
   "source": [
    "## Resizing the image"
   ]
  },
  {
   "cell_type": "code",
   "execution_count": 11,
   "metadata": {},
   "outputs": [],
   "source": [
    "resized_img = cv.resize(img,(300,300),interpolation=cv.INTER_AREA)\n",
    "# To get the higher quality image after resizing we can use interpolation=cv.INTER_CUBIC\n",
    "# For shrinking you can us inter_area\n",
    "# For scaling you can us inter_linear or inter_cubic\n",
    "cv.imshow('Colored Image', img)\n",
    "cv.imshow('Resized Image', resized_img)\n",
    "cv.waitKey(5000)\n",
    "cv.destroyAllWindows()"
   ]
  },
  {
   "cell_type": "markdown",
   "metadata": {},
   "source": [
    "## Cropping the image"
   ]
  },
  {
   "cell_type": "code",
   "execution_count": 12,
   "metadata": {},
   "outputs": [],
   "source": [
    "cropped_img = img[50:300,200:600]\n",
    "cv.imshow('Colored Image', img)\n",
    "cv.imshow('Cropped Image', cropped_img)\n",
    "cv.waitKey(5000)\n",
    "cv.destroyAllWindows()"
   ]
  }
 ],
 "metadata": {
  "kernelspec": {
   "display_name": "Python 3",
   "language": "python",
   "name": "python3"
  },
  "language_info": {
   "codemirror_mode": {
    "name": "ipython",
    "version": 3
   },
   "file_extension": ".py",
   "mimetype": "text/x-python",
   "name": "python",
   "nbconvert_exporter": "python",
   "pygments_lexer": "ipython3",
   "version": "3.11.4"
  },
  "orig_nbformat": 4
 },
 "nbformat": 4,
 "nbformat_minor": 2
}
