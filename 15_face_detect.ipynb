{
 "cells": [
  {
   "cell_type": "code",
   "execution_count": 35,
   "metadata": {},
   "outputs": [],
   "source": [
    "import cv2 as cv\n",
    "import matplotlib.pyplot as plt"
   ]
  },
  {
   "cell_type": "code",
   "execution_count": 29,
   "metadata": {},
   "outputs": [],
   "source": [
    "# img = cv.imread('Resources/Faces/train/Mindy Kaling/22.jpg')\n",
    "img = cv.imread('Resources/Photos/group 2.jpg')\n",
    "# cv.imshow(\"Face\", img)\n",
    "cv.imshow(\"Group of people\", img)\n",
    "cv.waitKey(5000)\n",
    "cv.destroyAllWindows()"
   ]
  },
  {
   "cell_type": "code",
   "execution_count": 19,
   "metadata": {},
   "outputs": [],
   "source": [
    "gray = cv.cvtColor(img,cv.COLOR_BGR2GRAY)"
   ]
  },
  {
   "cell_type": "code",
   "execution_count": 13,
   "metadata": {},
   "outputs": [],
   "source": [
    "haar_cascade = cv.CascadeClassifier('haar_face.xml')"
   ]
  },
  {
   "cell_type": "code",
   "execution_count": 30,
   "metadata": {},
   "outputs": [
    {
     "name": "stdout",
     "output_type": "stream",
     "text": [
      "Number of faces found = 4\n"
     ]
    }
   ],
   "source": [
    "face_rect = haar_cascade.detectMultiScale(gray, scaleFactor=1.5,minNeighbors=6)\n",
    "print(f'Number of faces found = {len(face_rect)}')"
   ]
  },
  {
   "cell_type": "code",
   "execution_count": 37,
   "metadata": {},
   "outputs": [],
   "source": [
    "for (x,y,w,h) in face_rect:\n",
    "    cv.rectangle(img,(x,y), (x+w, y+h), (0,0,255),thickness=2)\n",
    "\n",
    "cv.imshow(\"Detected faces\",img)\n",
    "cv.waitKey(10000)\n",
    "cv.destroyAllWindows()"
   ]
  },
  {
   "cell_type": "code",
   "execution_count": 55,
   "metadata": {},
   "outputs": [],
   "source": [
    "img = cv.imread(\"Resources/Photos/group 1.jpg\")\n",
    "gray = cv.cvtColor(img,cv.COLOR_BGR2GRAY)"
   ]
  },
  {
   "cell_type": "code",
   "execution_count": 56,
   "metadata": {},
   "outputs": [
    {
     "name": "stdout",
     "output_type": "stream",
     "text": [
      "Number of faces found = 19\n"
     ]
    }
   ],
   "source": [
    "face_rect = haar_cascade.detectMultiScale(gray, scaleFactor=1.1,minNeighbors=1)\n",
    "print(f'Number of faces found = {len(face_rect)}')\n",
    "for (x,y,w,h) in face_rect:\n",
    "    cv.rectangle(img,(x,y), (x+w, y+h), (0,0,255),thickness=2)\n",
    "\n",
    "cv.imshow(\"Detected faces\",img)\n",
    "cv.waitKey(5000)\n",
    "cv.destroyAllWindows()"
   ]
  }
 ],
 "metadata": {
  "kernelspec": {
   "display_name": "Python 3",
   "language": "python",
   "name": "python3"
  },
  "language_info": {
   "codemirror_mode": {
    "name": "ipython",
    "version": 3
   },
   "file_extension": ".py",
   "mimetype": "text/x-python",
   "name": "python",
   "nbconvert_exporter": "python",
   "pygments_lexer": "ipython3",
   "version": "3.11.4"
  },
  "orig_nbformat": 4
 },
 "nbformat": 4,
 "nbformat_minor": 2
}
